{
 "cells": [
  {
   "cell_type": "markdown",
   "id": "1b1f94b9-7b73-4748-9286-d786a69bdf71",
   "metadata": {},
   "source": [
    "# 1. Assessor and analyst work\n",
    "\n",
    "## 1.0. Rating and criteria\n",
    "\n",
    "Please [open this document](https://static.googleusercontent.com/media/guidelines.raterhub.com/en//searchqualityevaluatorguidelines.pdf)\n",
    "and study chapters 13.0-13.4. Your task will be to assess the organic answers of search engines given the same query.\n",
    "\n",
    "## 1.1. Explore the page\n",
    "\n",
    "For the following search engines:\n",
    "- https://duckduckgo.com/\n",
    "- https://www.bing.com/\n",
    "- https://ya.ru/\n",
    "- https://www.google.com/\n",
    "\n",
    "Perform the same query: \"**How to get from Kazan to Voronezh**\".\n",
    "\n",
    "Discuss with your TA the following:\n",
    "1. Which elements you may identify at SERP? Ads, snippets, blends from other sources, ...?\n",
    "2. Where are organic results? How many of them are there?\n",
    "\n",
    "## 1.2. Rate the results of the search engine\n",
    "\n",
    "If there are many of you in the group, assess all search engines, otherwise choose 1 or 2. There should be no less than 5 of your for each search engine. Use the scale from the handbook, use 0..4 numerical equivalents for `[FailsM, SM, MM, HM, FullyM]`. \n",
    "\n",
    "Compute:\n",
    "- average relevance and standard deviation for each SERP element.\n",
    "- [Fleiss kappa score](https://en.wikipedia.org/wiki/Fleiss%27_kappa#Worked_example) for your group. Use [this implementation](https://www.statsmodels.org/dev/generated/statsmodels.stats.inter_rater.fleiss_kappa.html).\n",
    "- [Kendall rank coefficient](https://en.wikipedia.org/wiki/Kendall_rank_correlation_coefficient) for some pairs in your group. Use [this implementation](https://docs.scipy.org/doc/scipy/reference/generated/scipy.stats.kendalltau.html).\n",
    "\n",
    "Discuss numerical results. Did you agree on the relevance? Did you agree on the rank? What is the difference?"
   ]
  },
  {
   "cell_type": "code",
   "id": "3c3738c6-ed54-4113-b75a-cba812c5aade",
   "metadata": {
    "ExecuteTime": {
     "end_time": "2024-09-10T13:58:45.015263Z",
     "start_time": "2024-09-10T13:58:45.010162Z"
    }
   },
   "source": [
    "import numpy as np\n",
    "\n",
    "# example input by users\n",
    "ranking_data = np.array([\n",
    "\t[4, 4, 4, 3, 4, 2, 2, 1, 1, 0],  # assessor 1 relevance\n",
    "\t[4, 3, 4, 3, 3, 2, 1, 1, 1, 1],  # assessor 2 relevance\n",
    "\t[3, 4, 4, 4, 4, 3, 2, 1, 1, 1],  # ...\n",
    "\t[4, 4, 4, 4, 3, 2, 2, 1, 1, 0],\n",
    "\t[4, 4, 4, 4, 3, 2, 2, 1, 1, 3]\n",
    "])"
   ],
   "outputs": [],
   "execution_count": 4
  },
  {
   "cell_type": "markdown",
   "id": "32a88b0e-5ece-404c-9fc2-82c4d1bb3281",
   "metadata": {},
   "source": [
    "Averages ang standard deviations per item."
   ]
  },
  {
   "cell_type": "code",
   "id": "59c53e3e-120f-45ec-94c1-f02d061f0177",
   "metadata": {
    "ExecuteTime": {
     "end_time": "2024-09-10T13:58:46.348582Z",
     "start_time": "2024-09-10T13:58:46.345735Z"
    }
   },
   "source": [
    "# TODO your code here"
   ],
   "outputs": [],
   "execution_count": 5
  },
  {
   "cell_type": "markdown",
   "id": "70a88642-87aa-42c1-b913-83eb9b22d973",
   "metadata": {},
   "source": [
    "Fleiss kappa score"
   ]
  },
  {
   "cell_type": "code",
   "id": "06e63c2c-090d-4da1-b0b8-45ec2538e635",
   "metadata": {
    "ExecuteTime": {
     "end_time": "2024-09-10T13:58:53.809855Z",
     "start_time": "2024-09-10T13:58:50.544583Z"
    }
   },
   "source": [
    "!pip install statsmodels"
   ],
   "outputs": [
    {
     "name": "stdout",
     "output_type": "stream",
     "text": [
      "Requirement already satisfied: statsmodels in /usr/lib/python3.11/site-packages (0.14.2)\r\n",
      "Requirement already satisfied: numpy>=1.22.3 in /usr/lib/python3.11/site-packages (from statsmodels) (1.26.4)\r\n",
      "Requirement already satisfied: scipy!=1.9.2,>=1.8 in /usr/lib/python3.11/site-packages (from statsmodels) (1.14.0)\r\n",
      "Requirement already satisfied: pandas!=2.1.0,>=1.4 in /usr/lib/python3.11/site-packages (from statsmodels) (2.2.2)\r\n",
      "Requirement already satisfied: patsy>=0.5.6 in /usr/lib/python3.11/site-packages (from statsmodels) (0.5.6)\r\n",
      "Requirement already satisfied: packaging>=21.3 in /usr/lib/python3.11/site-packages (from statsmodels) (24.1)\r\n",
      "Requirement already satisfied: python-dateutil>=2.8.2 in /usr/lib/python3.11/site-packages (from pandas!=2.1.0,>=1.4->statsmodels) (2.9.0.post0)\r\n",
      "Requirement already satisfied: pytz>=2020.1 in /usr/lib/python3.11/site-packages (from pandas!=2.1.0,>=1.4->statsmodels) (2024.1)\r\n",
      "Requirement already satisfied: tzdata>=2022.7 in /usr/lib/python3.11/site-packages (from pandas!=2.1.0,>=1.4->statsmodels) (10001)\r\n",
      "Requirement already satisfied: six in /usr/lib/python3.11/site-packages (from patsy>=0.5.6->statsmodels) (1.16.0)\r\n",
      "\r\n",
      "\u001B[1m[\u001B[0m\u001B[34;49mnotice\u001B[0m\u001B[1;39;49m]\u001B[0m\u001B[39;49m A new release of pip is available: \u001B[0m\u001B[31;49m24.0\u001B[0m\u001B[39;49m -> \u001B[0m\u001B[32;49m24.2\u001B[0m\r\n",
      "\u001B[1m[\u001B[0m\u001B[34;49mnotice\u001B[0m\u001B[1;39;49m]\u001B[0m\u001B[39;49m To update, run: \u001B[0m\u001B[32;49mpip install --upgrade pip\u001B[0m\r\n"
     ]
    }
   ],
   "execution_count": 6
  },
  {
   "cell_type": "code",
   "id": "6cb6cbb6-7768-42f0-aed3-215488d15bc2",
   "metadata": {
    "ExecuteTime": {
     "end_time": "2024-09-10T14:00:02.330404Z",
     "start_time": "2024-09-10T14:00:02.319253Z"
    }
   },
   "source": [
    "from statsmodels.stats.inter_rater import aggregate_raters, fleiss_kappa\n",
    "\n",
    "aggregation, _ = aggregate_raters(ranking_data.T)\n",
    "kappa = fleiss_kappa(aggregation)\n",
    "\n",
    "aggregation, kappa"
   ],
   "outputs": [
    {
     "data": {
      "text/plain": [
       "(array([[0, 0, 0, 1, 4],\n",
       "        [0, 0, 0, 1, 4],\n",
       "        [0, 0, 0, 0, 5],\n",
       "        [0, 0, 0, 2, 3],\n",
       "        [0, 0, 0, 3, 2],\n",
       "        [0, 0, 4, 1, 0],\n",
       "        [0, 1, 4, 0, 0],\n",
       "        [0, 5, 0, 0, 0],\n",
       "        [0, 5, 0, 0, 0],\n",
       "        [2, 2, 0, 1, 0]]),\n",
       " 0.5156081808396124)"
      ]
     },
     "execution_count": 13,
     "metadata": {},
     "output_type": "execute_result"
    }
   ],
   "execution_count": 13
  },
  {
   "cell_type": "markdown",
   "id": "3bd6069e-e8a1-4483-b1f2-bf5f4e982283",
   "metadata": {},
   "source": [
    "Kendall tau score is pairwise. Compare one to another."
   ]
  },
  {
   "cell_type": "code",
   "id": "6e7f5f22-74a4-47cd-848a-09c8e1abb39c",
   "metadata": {
    "ExecuteTime": {
     "end_time": "2024-09-10T14:20:36.164861Z",
     "start_time": "2024-09-10T14:20:36.155310Z"
    }
   },
   "source": [
    "from scipy.stats import kendalltau\n",
    "\n",
    "kendalltau(\n",
    "\tranking_data[0],\n",
    "\tranking_data[1],\n",
    ")"
   ],
   "outputs": [
    {
     "data": {
      "text/plain": [
       "SignificanceResult(statistic=0.8336550215650926, pvalue=0.0031006074932690315)"
      ]
     },
     "execution_count": 33,
     "metadata": {},
     "output_type": "execute_result"
    }
   ],
   "execution_count": 33
  },
  {
   "cell_type": "markdown",
   "id": "9eed044a-9a49-432d-b7a6-7591087d0de7",
   "metadata": {},
   "source": [
    "# 2. Engineer work\n",
    "\n",
    "You will create a bucket of URLs which are relevant for the query **\"free cloud git\"**. Then you will automate the search procedure using https://serpapi.com/, or https://developers.google.com/custom-search/v1/overview, or whatever.\n",
    "\n",
    "Then you will compute MRR@10 and Precision@10.\n",
    "\n",
    "## 2.1. Build your bucket here"
   ]
  },
  {
   "cell_type": "code",
   "id": "e11aa566-0ab3-48d7-959c-ab6cb875d7ac",
   "metadata": {
    "ExecuteTime": {
     "end_time": "2024-09-10T14:45:12.404901Z",
     "start_time": "2024-09-10T14:45:10.864569Z"
    }
   },
   "source": [
    "import requests\n",
    "\n",
    "rel_bucket = [\n",
    "\t\"github.com\",\n",
    "\t\"gitlab.com\",\n",
    "\t\"bitbucket.org\"\n",
    "]\n",
    "\n",
    "resp = requests.get(\n",
    "\t\"https://serpapi.com/search.json?q=git+free+cloud&location=Austin,+Texas,+United+States&hl=en&gl=us&google_domain=google.com&key=5aff1ae53da3a991a97d770bf1991833ba30a97d68925ede4cb0003285c727ba\"\n",
    ")\n",
    "\n",
    "resp.raise_for_status()\n",
    "resp = resp.json()\n",
    "\n",
    "organic = resp[\"organic_results\"]\n",
    "organic = [i[\"link\"] for i in organic]\n",
    "organic"
   ],
   "outputs": [
    {
     "data": {
      "text/plain": [
       "['https://www.reddit.com/r/git/comments/46t07s/best_free_git_hosting/',\n",
       " 'https://github.com/cloudcommunity/Free-Hosting',\n",
       " 'https://github.com/cloudcommunity/Cloud-Free-Tier-Comparison',\n",
       " 'https://www.gitpod.io/',\n",
       " 'https://bitbucket.org/product',\n",
       " 'https://opensource.com/article/18/8/github-alternatives',\n",
       " 'https://www.quora.com/Whats-stopping-people-from-using-GitHub-for-free-unlimited-cloud-storage-instead-of-Dropbox',\n",
       " 'https://git-scm.com/',\n",
       " 'https://azure.microsoft.com/en-us/products/devops/repos',\n",
       " 'https://source.cloud.google.com/']"
      ]
     },
     "execution_count": 69,
     "metadata": {},
     "output_type": "execute_result"
    }
   ],
   "execution_count": 69
  },
  {
   "cell_type": "markdown",
   "id": "d501aa5e-7051-4039-930b-b293c49721e1",
   "metadata": {},
   "source": [
    "## 2.2. Relevance assessment\n",
    "\n",
    "Write the code to check that the obtained document is relevant (True) or not (False)."
   ]
  },
  {
   "cell_type": "code",
   "id": "450a610f-c121-4781-8719-1dcfd4892625",
   "metadata": {
    "ExecuteTime": {
     "end_time": "2024-09-10T14:56:02.149715Z",
     "start_time": "2024-09-10T14:56:02.143785Z"
    }
   },
   "source": [
    "from urllib.parse import urlparse\n",
    "\n",
    "\n",
    "def is_rel(resp_url):\n",
    "\tnetloc = urlparse(resp_url).netloc\n",
    "\trel = netloc in rel_bucket\n",
    "\treturn rel"
   ],
   "outputs": [],
   "execution_count": 89
  },
  {
   "cell_type": "markdown",
   "id": "5c3c2ea8-19c1-44b5-8fc2-fa4e23182dae",
   "metadata": {},
   "source": [
    "## 2.3. Automation\n",
    "\n",
    "Get search results from the automation tool you use."
   ]
  },
  {
   "cell_type": "code",
   "id": "434e58a5-77a8-4d54-a495-8540361f6df7",
   "metadata": {
    "ExecuteTime": {
     "end_time": "2024-09-10T14:56:03.205299Z",
     "start_time": "2024-09-10T14:56:03.195583Z"
    }
   },
   "source": [
    "rels = [is_rel(link) for link in organic]\n",
    "rels"
   ],
   "outputs": [
    {
     "data": {
      "text/plain": [
       "[False, True, True, False, True, False, False, False, False, False]"
      ]
     },
     "execution_count": 90,
     "metadata": {},
     "output_type": "execute_result"
    }
   ],
   "execution_count": 90
  },
  {
   "cell_type": "markdown",
   "id": "285eb724-2188-45d3-be78-cffb91bacee8",
   "metadata": {},
   "source": [
    "## 2.4. MRR\n",
    "\n",
    "Compute MRR:"
   ]
  },
  {
   "cell_type": "code",
   "id": "33c40e3b-24d2-4c7b-860e-d543c1281f01",
   "metadata": {
    "ExecuteTime": {
     "end_time": "2024-09-10T14:56:04.473739Z",
     "start_time": "2024-09-10T14:56:04.466207Z"
    }
   },
   "source": [
    "def mrr(mat):\n",
    "\trows, cols = mat.shape\n",
    "\trank = np.zeros((rows))\n",
    "\t\n",
    "\tfor j, row in enumerate(mat):\n",
    "\t\trel_pos = None\n",
    "\t\tfor i, x in enumerate(row):\n",
    "\t\t\tif x:\n",
    "\t\t\t\trel_pos = i + 1\n",
    "\t\t\t\tbreak\n",
    "\t\t\t\t\n",
    "\t\tif rel_pos:\n",
    "\t\t\trank[j] = rel_pos\n",
    "\n",
    "\trank = np.where(rank == 0, 0, 1 / rank)\n",
    "\tmrr = np.mean(rank)\n",
    "\treturn mrr"
   ],
   "outputs": [],
   "execution_count": 91
  },
  {
   "cell_type": "code",
   "id": "e64c4e28-9ae7-4715-96a2-adfa13c5b00b",
   "metadata": {
    "ExecuteTime": {
     "end_time": "2024-09-10T14:56:05.275885Z",
     "start_time": "2024-09-10T14:56:05.268263Z"
    }
   },
   "source": [
    "rels = np.array([rels])\n",
    "rels"
   ],
   "outputs": [
    {
     "data": {
      "text/plain": [
       "array([[False,  True,  True, False,  True, False, False, False, False,\n",
       "        False]])"
      ]
     },
     "execution_count": 92,
     "metadata": {},
     "output_type": "execute_result"
    }
   ],
   "execution_count": 92
  },
  {
   "metadata": {
    "ExecuteTime": {
     "end_time": "2024-09-10T14:56:06.048617Z",
     "start_time": "2024-09-10T14:56:06.042109Z"
    }
   },
   "cell_type": "code",
   "source": "mrr(rels)",
   "id": "3cebc4a0ecb6152c",
   "outputs": [
    {
     "data": {
      "text/plain": [
       "0.5"
      ]
     },
     "execution_count": 93,
     "metadata": {},
     "output_type": "execute_result"
    }
   ],
   "execution_count": 93
  },
  {
   "cell_type": "markdown",
   "id": "d644d32d-3d15-4d81-b3b5-396af0e85dd1",
   "metadata": {},
   "source": [
    "## 2.5. Precision\n",
    "Compute mean precision:"
   ]
  },
  {
   "cell_type": "code",
   "id": "5be58a4a-deeb-48cd-9f81-cae0be9a8493",
   "metadata": {
    "ExecuteTime": {
     "end_time": "2024-09-10T14:56:07.713678Z",
     "start_time": "2024-09-10T14:56:07.710354Z"
    }
   },
   "source": [
    "def mp(mat):\n",
    "\tper_query = np.mean(mat, axis=1)\n",
    "\tmp = np.mean(per_query)\n",
    "\treturn mp"
   ],
   "outputs": [],
   "execution_count": 94
  },
  {
   "cell_type": "code",
   "id": "1d3fbb74-9b3d-46a2-98d9-4a8894c8e8b7",
   "metadata": {
    "ExecuteTime": {
     "end_time": "2024-09-10T14:56:08.961217Z",
     "start_time": "2024-09-10T14:56:08.955788Z"
    }
   },
   "source": "mp(rels)",
   "outputs": [
    {
     "data": {
      "text/plain": [
       "0.3"
      ]
     },
     "execution_count": 95,
     "metadata": {},
     "output_type": "execute_result"
    }
   ],
   "execution_count": 95
  },
  {
   "metadata": {},
   "cell_type": "code",
   "outputs": [],
   "execution_count": null,
   "source": "",
   "id": "895db79c528cd676"
  }
 ],
 "metadata": {
  "kernelspec": {
   "display_name": "Python 3 (ipykernel)",
   "language": "python",
   "name": "python3"
  },
  "language_info": {
   "codemirror_mode": {
    "name": "ipython",
    "version": 3
   },
   "file_extension": ".py",
   "mimetype": "text/x-python",
   "name": "python",
   "nbconvert_exporter": "python",
   "pygments_lexer": "ipython3",
   "version": "3.9.7"
  }
 },
 "nbformat": 4,
 "nbformat_minor": 5
}
